{
 "cells": [
  {
   "cell_type": "markdown",
   "id": "fbbc48de-dab0-4cbf-abac-38aa77ed38d7",
   "metadata": {},
   "source": [
    "Adding Matrices and Adding Scalars"
   ]
  },
  {
   "cell_type": "code",
   "execution_count": 1,
   "id": "a6186af8-f84e-4abb-8f53-d1df8cf8a353",
   "metadata": {},
   "outputs": [],
   "source": [
    "import numpy as np"
   ]
  },
  {
   "cell_type": "code",
   "execution_count": 2,
   "id": "94284410-9257-40c3-976e-dde3d11de9cd",
   "metadata": {},
   "outputs": [
    {
     "data": {
      "text/plain": [
       "10"
      ]
     },
     "execution_count": 2,
     "metadata": {},
     "output_type": "execute_result"
    }
   ],
   "source": [
    "5+5 #example of adding scalars together"
   ]
  },
  {
   "cell_type": "code",
   "execution_count": 3,
   "id": "f284d580-9901-4893-b199-b3be1c9e76b2",
   "metadata": {},
   "outputs": [
    {
     "data": {
      "text/plain": [
       "14"
      ]
     },
     "execution_count": 3,
     "metadata": {},
     "output_type": "execute_result"
    }
   ],
   "source": [
    "10+4"
   ]
  },
  {
   "cell_type": "markdown",
   "id": "ad7f19cc-c007-4cea-8aa0-b9c18e2caa49",
   "metadata": {},
   "source": [
    "Adding matrices"
   ]
  },
  {
   "cell_type": "code",
   "execution_count": 11,
   "id": "9555148d-beea-4db2-bbfd-e62b664e0625",
   "metadata": {},
   "outputs": [
    {
     "data": {
      "text/plain": [
       "array([[ 5, 12,  6],\n",
       "       [-1,  0, 14]])"
      ]
     },
     "execution_count": 11,
     "metadata": {},
     "output_type": "execute_result"
    }
   ],
   "source": [
    "m1 = np.array([[5,12,6],[-1,0,14]])\n",
    "m2= np.array([[6,13,8],[-5,0,18]])\n",
    "m1"
   ]
  },
  {
   "cell_type": "code",
   "execution_count": 14,
   "id": "0c28e328-eadf-48a0-9d03-e33c8a727cfe",
   "metadata": {},
   "outputs": [
    {
     "data": {
      "text/plain": [
       "array([ 6, 13, 12])"
      ]
     },
     "execution_count": 14,
     "metadata": {},
     "output_type": "execute_result"
    }
   ],
   "source": [
    "m3= np.array([6,13,12])\n",
    "m3"
   ]
  },
  {
   "cell_type": "code",
   "execution_count": 15,
   "id": "1e64c9a6-94dd-498f-8d03-62ce1b63cf7f",
   "metadata": {},
   "outputs": [
    {
     "data": {
      "text/plain": [
       "array([[11, 25, 18],\n",
       "       [ 5, 13, 26]])"
      ]
     },
     "execution_count": 15,
     "metadata": {},
     "output_type": "execute_result"
    }
   ],
   "source": [
    "m1+m3 #found out that I can add a vector of the same length as a matrix ie if the vector\n",
    "# has a length of 3 elements and the matrix has two or 3 rows that fit the same amount of elements"
   ]
  },
  {
   "cell_type": "code",
   "execution_count": 16,
   "id": "727a3e5f-e694-45bb-a8d7-c20ab2fc9cb9",
   "metadata": {},
   "outputs": [],
   "source": [
    "m4 = np.array([12,13])"
   ]
  },
  {
   "cell_type": "code",
   "execution_count": 17,
   "id": "0d2ec209-693b-49e9-8ba3-89149c903460",
   "metadata": {},
   "outputs": [
    {
     "ename": "ValueError",
     "evalue": "operands could not be broadcast together with shapes (2,3) (2,) ",
     "output_type": "error",
     "traceback": [
      "\u001b[1;31m---------------------------------------------------------------------------\u001b[0m",
      "\u001b[1;31mValueError\u001b[0m                                Traceback (most recent call last)",
      "Cell \u001b[1;32mIn[17], line 1\u001b[0m\n\u001b[1;32m----> 1\u001b[0m m1\u001b[38;5;241m+\u001b[39mm4\n",
      "\u001b[1;31mValueError\u001b[0m: operands could not be broadcast together with shapes (2,3) (2,) "
     ]
    }
   ],
   "source": [
    "m1+m4"
   ]
  },
  {
   "cell_type": "markdown",
   "id": "a8162a3e-a0a6-476c-babc-48dd37e3aa8a",
   "metadata": {},
   "source": [
    "Can't add vectors of different element lengths together"
   ]
  },
  {
   "cell_type": "markdown",
   "id": "51943d03-427e-4dca-9506-145ff0607f51",
   "metadata": {},
   "source": [
    "Scalar exceptions"
   ]
  },
  {
   "cell_type": "code",
   "execution_count": 19,
   "id": "00601324-db56-4d60-9743-f744b2087b3a",
   "metadata": {},
   "outputs": [
    {
     "data": {
      "text/plain": [
       "array([[ 6, 13,  7],\n",
       "       [ 0,  1, 15]])"
      ]
     },
     "execution_count": 19,
     "metadata": {},
     "output_type": "execute_result"
    }
   ],
   "source": [
    "m1 +1 # added a scalar to a matrix and all elements incraesed by 1"
   ]
  },
  {
   "cell_type": "code",
   "execution_count": 20,
   "id": "0bbdbf9f-3636-4c7a-a3ff-3dca254fdcbf",
   "metadata": {},
   "outputs": [],
   "source": [
    "scores = np.array([[53, 32, 103], [43, 56, 78], [78, 96, 123], [61, 43, 65]])"
   ]
  },
  {
   "cell_type": "code",
   "execution_count": 21,
   "id": "4dbcf0d1-3489-47b2-92cc-2e51fb1f321b",
   "metadata": {},
   "outputs": [],
   "source": [
    "updated_scores = scores +36 #adding scalar to each matrix element. Makes sense in python\n",
    "#in linear algebra not so much"
   ]
  },
  {
   "cell_type": "code",
   "execution_count": 22,
   "id": "026cd1ff-93c3-498b-b659-034bdf6b3f59",
   "metadata": {},
   "outputs": [
    {
     "name": "stdout",
     "output_type": "stream",
     "text": [
      "[[ 89  68 139]\n",
      " [ 79  92 114]\n",
      " [114 132 159]\n",
      " [ 97  79 101]]\n"
     ]
    }
   ],
   "source": [
    "print(updated_scores)"
   ]
  },
  {
   "cell_type": "markdown",
   "id": "abe8c133-f68c-4944-ba28-c4b128498ed1",
   "metadata": {},
   "source": [
    "\n",
    "The shape of the matrix scores is (4, 3).(the dimensions 4x3)\n",
    "\n",
    "In simple terms:\n",
    "\n",
    "It has 4 rows (horizontal sets of numbers).\n",
    "It has 3 columns (vertical sets of numbers)."
   ]
  },
  {
   "cell_type": "markdown",
   "id": "2a3244ba-2686-4479-961d-2279fe118279",
   "metadata": {},
   "source": [
    "Transpose a matrix and vectors"
   ]
  },
  {
   "cell_type": "code",
   "execution_count": 27,
   "id": "a8f47ee0-4e68-4d46-81e1-8da53f3fcf54",
   "metadata": {},
   "outputs": [
    {
     "data": {
      "text/plain": [
       "array([1, 2, 3])"
      ]
     },
     "execution_count": 27,
     "metadata": {},
     "output_type": "execute_result"
    }
   ],
   "source": [
    "v1 = np.array([1,2,3])\n",
    "v1"
   ]
  },
  {
   "cell_type": "markdown",
   "id": "c78bace6-bfd0-4d71-9e26-16c26af93e2a",
   "metadata": {},
   "source": [
    "we dont lose info when we transpose and if transposed twice we return the original vector"
   ]
  },
  {
   "cell_type": "code",
   "execution_count": 32,
   "id": "42ccb0af-4f3b-4848-b7f9-2826ccb8e114",
   "metadata": {},
   "outputs": [
    {
     "data": {
      "text/plain": [
       "array([1, 2, 3])"
      ]
     },
     "execution_count": 32,
     "metadata": {},
     "output_type": "execute_result"
    }
   ],
   "source": [
    "v1.T # one dimensional arrays do mot get transposed in python\n",
    "#can use v1.reshape to transpose the vector/change it from a row to a column"
   ]
  },
  {
   "cell_type": "code",
   "execution_count": 30,
   "id": "0c4bc68e-95fa-4ccb-a069-e67daa991905",
   "metadata": {},
   "outputs": [
    {
     "data": {
      "text/plain": [
       "array([[ 3,  5],\n",
       "       [-2,  4]])"
      ]
     },
     "execution_count": 30,
     "metadata": {},
     "output_type": "execute_result"
    }
   ],
   "source": [
    "a = np.array([[3,5],[-2,4]])\n",
    "a"
   ]
  },
  {
   "cell_type": "code",
   "execution_count": 31,
   "id": "cfcb4b4d-2c9d-47c4-9a20-b15054e44921",
   "metadata": {},
   "outputs": [
    {
     "data": {
      "text/plain": [
       "array([[ 3, -2],\n",
       "       [ 5,  4]])"
      ]
     },
     "execution_count": 31,
     "metadata": {},
     "output_type": "execute_result"
    }
   ],
   "source": [
    "a.T #Transpose a matrix"
   ]
  },
  {
   "cell_type": "code",
   "execution_count": 37,
   "id": "464225de-6725-450e-85f1-5c8599712e95",
   "metadata": {},
   "outputs": [
    {
     "data": {
      "text/plain": [
       "array([[1, 2, 3]])"
      ]
     },
     "execution_count": 37,
     "metadata": {},
     "output_type": "execute_result"
    }
   ],
   "source": [
    "v1_reshaped = v1.reshape(1,3)\n",
    "v1_reshaped"
   ]
  },
  {
   "cell_type": "code",
   "execution_count": 36,
   "id": "8ff6eb1f-2bad-428b-be5d-27206cd4a111",
   "metadata": {},
   "outputs": [
    {
     "data": {
      "text/plain": [
       "array([[1],\n",
       "       [2],\n",
       "       [3]])"
      ]
     },
     "execution_count": 36,
     "metadata": {},
     "output_type": "execute_result"
    }
   ],
   "source": [
    "v1_reshaped.T #Now we can transpose the vector because we reshaped it"
   ]
  },
  {
   "cell_type": "markdown",
   "id": "7c77180b-a38d-44e4-a402-64d9c2c6e08c",
   "metadata": {},
   "source": [
    "Multiplication of vectors"
   ]
  },
  {
   "cell_type": "code",
   "execution_count": 38,
   "id": "cd4d5283-1b76-47f7-9984-78220307edac",
   "metadata": {},
   "outputs": [],
   "source": [
    "#we use dot product /inner or scalar products when multiplying for vectors and matrices"
   ]
  },
  {
   "cell_type": "markdown",
   "id": "8159b89b-a4e8-4431-bc4d-12a3947d8522",
   "metadata": {},
   "source": [
    "DOT PRODUCT"
   ]
  },
  {
   "cell_type": "code",
   "execution_count": 39,
   "id": "1f26c374-7552-4acd-9352-ac5400db7054",
   "metadata": {},
   "outputs": [],
   "source": [
    "x =np.array([2,3,4])\n",
    "t = np.array([2,4,5])"
   ]
  },
  {
   "cell_type": "code",
   "execution_count": 41,
   "id": "6ee95cac-2bae-461e-ac09-5cca34b8a912",
   "metadata": {},
   "outputs": [
    {
     "data": {
      "text/plain": [
       "36"
      ]
     },
     "execution_count": 41,
     "metadata": {},
     "output_type": "execute_result"
    }
   ],
   "source": [
    "np.dot(x,t)"
   ]
  },
  {
   "cell_type": "code",
   "execution_count": 42,
   "id": "ca5643cc-2343-4c6e-ba37-9823537f66e3",
   "metadata": {},
   "outputs": [],
   "source": [
    "#multiplying two vectors will result in a  scalar being an output\n",
    "# the will multiply the vector elements together then add the results"
   ]
  },
  {
   "cell_type": "markdown",
   "id": "e274ecb8-1f97-4c37-9a43-ab02328cb51e",
   "metadata": {},
   "source": [
    "Multiplying a scalar with a vector"
   ]
  },
  {
   "cell_type": "code",
   "execution_count": 43,
   "id": "6706126b-5289-48b8-ad98-96132072a0e9",
   "metadata": {},
   "outputs": [
    {
     "data": {
      "text/plain": [
       "array([2, 3, 4])"
      ]
     },
     "execution_count": 43,
     "metadata": {},
     "output_type": "execute_result"
    }
   ],
   "source": [
    "x"
   ]
  },
  {
   "cell_type": "code",
   "execution_count": 50,
   "id": "4e81b0a4-ee03-4e32-b687-b1cdee90d220",
   "metadata": {},
   "outputs": [
    {
     "data": {
      "text/plain": [
       "(3,)"
      ]
     },
     "execution_count": 50,
     "metadata": {},
     "output_type": "execute_result"
    }
   ],
   "source": [
    "x.shape"
   ]
  },
  {
   "cell_type": "code",
   "execution_count": 45,
   "id": "861d2a31-77bf-443a-b1a3-86b5189dac13",
   "metadata": {},
   "outputs": [
    {
     "data": {
      "text/plain": [
       "array([10, 15, 20])"
      ]
     },
     "execution_count": 45,
     "metadata": {},
     "output_type": "execute_result"
    }
   ],
   "source": [
    "5*x # all components will be multiplied if we multiply a scalar with a vector\n",
    "# changes the scale of the vectors and not the shape"
   ]
  },
  {
   "cell_type": "markdown",
   "id": "012b7b7f-dede-4dac-a474-ecf45c1cd0da",
   "metadata": {},
   "source": [
    "In mathematics, two vectors are considered orthogonal (perpendicular) if their dot product is zero.\n",
    "You are provided with 4 vectors defined in NumPy. Compute the dot product for each pair of vectors and determine which pair, if any, is orthogonal. As the final output, print the vector with the smaller index from the orthogonal pair."
   ]
  },
  {
   "cell_type": "markdown",
   "id": "e7c7f5c2-cea5-450f-8c87-a83ad6d0549f",
   "metadata": {},
   "source": [
    "what this means is that I need to multiply out the vectors then add my results to see if any pair of vectors results in a zero. After THAT we need to print out which vector comes first in this perpendicular series. ie v2*v4 would need me to print v2"
   ]
  },
  {
   "cell_type": "code",
   "execution_count": 46,
   "id": "38a0a9d8-dc06-4c97-bb72-2f0ea968b3a6",
   "metadata": {},
   "outputs": [],
   "source": [
    "# Vectors\n",
    "v1 = np.array([3, -1, -2, 3])\n",
    "v2 = np.array([-2, 5, 7, 1])\n",
    "v3 = np.array([5, 3, 1, -4])\n",
    "v4 = np.array([3, 2, -0, -4])\n",
    "\n"
   ]
  },
  {
   "cell_type": "code",
   "execution_count": 48,
   "id": "fa1b4132-9476-4028-ace7-1a6f72a9a78c",
   "metadata": {},
   "outputs": [
    {
     "data": {
      "text/plain": [
       "array([-6, 10,  0, -4])"
      ]
     },
     "execution_count": 48,
     "metadata": {},
     "output_type": "execute_result"
    }
   ],
   "source": [
    "v2*v4# this result gives us zero "
   ]
  },
  {
   "cell_type": "code",
   "execution_count": 49,
   "id": "96c4c69f-97c2-4c8d-a701-4084549811cc",
   "metadata": {},
   "outputs": [
    {
     "name": "stdout",
     "output_type": "stream",
     "text": [
      "[-2  5  7  1]\n"
     ]
    }
   ],
   "source": [
    "print(v2)"
   ]
  },
  {
   "cell_type": "code",
   "execution_count": null,
   "id": "7a309e41-46d7-4c18-91e9-40ed412d9f6c",
   "metadata": {},
   "outputs": [],
   "source": []
  }
 ],
 "metadata": {
  "kernelspec": {
   "display_name": "Python 3 (ipykernel)",
   "language": "python",
   "name": "python3"
  },
  "language_info": {
   "codemirror_mode": {
    "name": "ipython",
    "version": 3
   },
   "file_extension": ".py",
   "mimetype": "text/x-python",
   "name": "python",
   "nbconvert_exporter": "python",
   "pygments_lexer": "ipython3",
   "version": "3.12.7"
  }
 },
 "nbformat": 4,
 "nbformat_minor": 5
}
