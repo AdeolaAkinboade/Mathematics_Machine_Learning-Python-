{
 "cells": [
  {
   "cell_type": "markdown",
   "id": "fbb0b6eb-9e0d-4d24-b03c-9dbd79051d31",
   "metadata": {},
   "source": [
    "Import all the relevant libraries"
   ]
  },
  {
   "cell_type": "code",
   "execution_count": 5,
   "id": "4088233e-eb50-4feb-a5db-c11d91ff81c9",
   "metadata": {},
   "outputs": [],
   "source": [
    "import numpy as np #using numpy libraries will allow for us to create vectors and scalars in Python(arrays)"
   ]
  },
  {
   "cell_type": "markdown",
   "id": "81187a34-c4f5-4530-ab43-ad04cb303ece",
   "metadata": {},
   "source": [
    "Scalar"
   ]
  },
  {
   "cell_type": "markdown",
   "id": "6dd04df5-6322-4ce0-9efe-3c4a8e0ffa7f",
   "metadata": {},
   "source": [
    "Mathematics uses relation to understand certain things. Two lines that are not in the same direction can be considered a vector\n",
    "An array is also a a matrix\n",
    "A matrix is a different form of a vector(a vector is a special case of a matrix)\n",
    "Amn is how a  matrix reads (You can read it from m = rows and n = said amount of columns in the matrix)\n",
    "Vectors are 2D in dimension(the ones we are dealing with at the moment)"
   ]
  },
  {
   "cell_type": "code",
   "execution_count": 2,
   "id": "68d6ad69-ca0b-420b-9296-4eae7b84d95d",
   "metadata": {},
   "outputs": [],
   "source": [
    "s=5"
   ]
  },
  {
   "cell_type": "code",
   "execution_count": 3,
   "id": "70fbddd3-6164-4d44-b6aa-17bf892a280a",
   "metadata": {},
   "outputs": [
    {
     "data": {
      "text/plain": [
       "5"
      ]
     },
     "execution_count": 3,
     "metadata": {},
     "output_type": "execute_result"
    }
   ],
   "source": [
    "s"
   ]
  },
  {
   "cell_type": "markdown",
   "id": "ab8f9c5f-1ede-4e1b-9250-d8bd9cc8c178",
   "metadata": {},
   "source": [
    "Vectors"
   ]
  },
  {
   "cell_type": "code",
   "execution_count": 7,
   "id": "d8670578-105c-4ae5-8614-b2db351840b4",
   "metadata": {},
   "outputs": [],
   "source": [
    "v = np.array([5,-2,4])"
   ]
  },
  {
   "cell_type": "code",
   "execution_count": 8,
   "id": "3daea1fe-db54-4799-8d46-d6e33e07cf42",
   "metadata": {},
   "outputs": [
    {
     "data": {
      "text/plain": [
       "array([ 5, -2,  4])"
      ]
     },
     "execution_count": 8,
     "metadata": {},
     "output_type": "execute_result"
    }
   ],
   "source": [
    "v"
   ]
  },
  {
   "cell_type": "markdown",
   "id": "df650c8b-f026-4c34-9e99-8faac88a9bc4",
   "metadata": {},
   "source": [
    "Matrix"
   ]
  },
  {
   "cell_type": "code",
   "execution_count": 9,
   "id": "6d1262bd-9a44-486c-bb1f-192f83a44a13",
   "metadata": {},
   "outputs": [],
   "source": [
    "n = np.array([[5,12,6],[-3,0,14]])"
   ]
  },
  {
   "cell_type": "code",
   "execution_count": 10,
   "id": "7c437913-5a9a-4058-9da3-c09de4188d81",
   "metadata": {},
   "outputs": [
    {
     "data": {
      "text/plain": [
       "array([[ 5, 12,  6],\n",
       "       [-3,  0, 14]])"
      ]
     },
     "execution_count": 10,
     "metadata": {},
     "output_type": "execute_result"
    }
   ],
   "source": [
    "n"
   ]
  },
  {
   "cell_type": "markdown",
   "id": "bc793043-6272-4815-bc11-16c2a7a50b1f",
   "metadata": {},
   "source": [
    "Data Types"
   ]
  },
  {
   "cell_type": "code",
   "execution_count": 11,
   "id": "617b0b7a-8095-4690-95b6-acbbc26ee7d5",
   "metadata": {},
   "outputs": [
    {
     "data": {
      "text/plain": [
       "int"
      ]
     },
     "execution_count": 11,
     "metadata": {},
     "output_type": "execute_result"
    }
   ],
   "source": [
    "type(s)"
   ]
  },
  {
   "cell_type": "code",
   "execution_count": 12,
   "id": "3c10b2ba-7b3c-4ddb-820b-c5bb99e479fb",
   "metadata": {},
   "outputs": [
    {
     "data": {
      "text/plain": [
       "numpy.ndarray"
      ]
     },
     "execution_count": 12,
     "metadata": {},
     "output_type": "execute_result"
    }
   ],
   "source": [
    "type(v)"
   ]
  },
  {
   "cell_type": "code",
   "execution_count": 14,
   "id": "7fa68a12-336c-43bb-8a92-b5eb781c4aef",
   "metadata": {},
   "outputs": [
    {
     "data": {
      "text/plain": [
       "numpy.ndarray"
      ]
     },
     "execution_count": 14,
     "metadata": {},
     "output_type": "execute_result"
    }
   ],
   "source": [
    "type(n)"
   ]
  },
  {
   "cell_type": "markdown",
   "id": "1ba8d821-d1e5-4368-99d2-5814e242e8dd",
   "metadata": {},
   "source": [
    "The v one is a one dimensional array and the n one is a two dimensional array"
   ]
  },
  {
   "cell_type": "code",
   "execution_count": 16,
   "id": "491740cd-873b-4591-9a14-ac5bca7dda9c",
   "metadata": {},
   "outputs": [],
   "source": [
    "s_array = np.array(5)"
   ]
  },
  {
   "cell_type": "code",
   "execution_count": 17,
   "id": "df6ff2f8-0709-484a-b87f-32e0d0901e6b",
   "metadata": {},
   "outputs": [
    {
     "data": {
      "text/plain": [
       "array(5)"
      ]
     },
     "execution_count": 17,
     "metadata": {},
     "output_type": "execute_result"
    }
   ],
   "source": [
    "s_array"
   ]
  },
  {
   "cell_type": "markdown",
   "id": "b0d21319-3984-4b5e-93fc-3403b6bb6968",
   "metadata": {},
   "source": [
    "This is if we wanna turn our scalar component into a vector"
   ]
  },
  {
   "cell_type": "markdown",
   "id": "46c881bc-6f28-4a52-8c44-64b70aeb77f9",
   "metadata": {},
   "source": [
    "Data Shape\n"
   ]
  },
  {
   "cell_type": "code",
   "execution_count": 20,
   "id": "ac374dc9-f97a-46f9-8127-a5ac5615d4dd",
   "metadata": {},
   "outputs": [
    {
     "data": {
      "text/plain": [
       "(2, 3)"
      ]
     },
     "execution_count": 20,
     "metadata": {},
     "output_type": "execute_result"
    }
   ],
   "source": [
    "n.shape #expected result because we have a 2 by 3 matrix (2 rows and 3 columns)"
   ]
  },
  {
   "cell_type": "code",
   "execution_count": 21,
   "id": "d1007b19-93e9-4c63-8b06-37dbe1b22a62",
   "metadata": {},
   "outputs": [
    {
     "data": {
      "text/plain": [
       "(3,)"
      ]
     },
     "execution_count": 21,
     "metadata": {},
     "output_type": "execute_result"
    }
   ],
   "source": [
    "v.shape"
   ]
  },
  {
   "cell_type": "code",
   "execution_count": 24,
   "id": "5187fde2-ccf8-40ab-92c8-5d669e67b66e",
   "metadata": {},
   "outputs": [
    {
     "data": {
      "text/plain": [
       "array([[ 5, -2,  4]])"
      ]
     },
     "execution_count": 24,
     "metadata": {},
     "output_type": "execute_result"
    }
   ],
   "source": [
    "v.reshape(1,3) #we are chaning the vector into a different fromat (can be from 3 rows \n",
    "#one columns or 1 row and 3 columns"
   ]
  },
  {
   "cell_type": "code",
   "execution_count": null,
   "id": "aff26f2b-ca35-4524-8cc2-723fed63c8a1",
   "metadata": {},
   "outputs": [],
   "source": [
    "#scalar has no shape as it has one dimension only"
   ]
  }
 ],
 "metadata": {
  "kernelspec": {
   "display_name": "Python 3 (ipykernel)",
   "language": "python",
   "name": "python3"
  },
  "language_info": {
   "codemirror_mode": {
    "name": "ipython",
    "version": 3
   },
   "file_extension": ".py",
   "mimetype": "text/x-python",
   "name": "python",
   "nbconvert_exporter": "python",
   "pygments_lexer": "ipython3",
   "version": "3.12.7"
  }
 },
 "nbformat": 4,
 "nbformat_minor": 5
}
