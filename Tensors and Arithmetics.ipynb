{
 "cells": [
  {
   "cell_type": "code",
   "execution_count": 3,
   "id": "d6efdf2d-da9e-45c1-b66d-c5679c808636",
   "metadata": {},
   "outputs": [],
   "source": [
    "import numpy as np"
   ]
  },
  {
   "cell_type": "markdown",
   "id": "444efce7-d343-4b6c-836e-6d313ae6ba77",
   "metadata": {},
   "source": [
    "Creating a Tensor"
   ]
  },
  {
   "cell_type": "code",
   "execution_count": 4,
   "id": "5978aeb1-3f7b-4ecb-badf-5db74f540648",
   "metadata": {},
   "outputs": [],
   "source": [
    "m1 = np.array([[2, 3], [-1, 4]])\n",
    "m2 = np.array([[1,8], [0,1]])\n",
    "m3 = np.array([[-3, -4], [6, 4]])"
   ]
  },
  {
   "cell_type": "code",
   "execution_count": 9,
   "id": "8041e87b-efb8-434f-b905-6455cf0d35b2",
   "metadata": {},
   "outputs": [],
   "source": [
    "t = np.stack((m1,m2,m3)) #can also use np.array to do this"
   ]
  },
  {
   "cell_type": "code",
   "execution_count": 7,
   "id": "e51f3faa-d7ec-4420-91f0-08ae46a109c4",
   "metadata": {},
   "outputs": [
    {
     "data": {
      "text/plain": [
       "array([[[ 2,  3],\n",
       "        [-1,  4]],\n",
       "\n",
       "       [[ 1,  8],\n",
       "        [ 0,  1]],\n",
       "\n",
       "       [[-3, -4],\n",
       "        [ 6,  4]]])"
      ]
     },
     "execution_count": 7,
     "metadata": {},
     "output_type": "execute_result"
    }
   ],
   "source": [
    "t"
   ]
  },
  {
   "cell_type": "code",
   "execution_count": 8,
   "id": "e4dfbc1d-ba57-4ce9-849b-dc16aac5364f",
   "metadata": {},
   "outputs": [
    {
     "data": {
      "text/plain": [
       "array([[[ 2,  3],\n",
       "        [-1,  4]],\n",
       "\n",
       "       [[ 1,  8],\n",
       "        [ 0,  1]],\n",
       "\n",
       "       [[-3, -4],\n",
       "        [ 6,  4]]])"
      ]
     },
     "execution_count": 8,
     "metadata": {},
     "output_type": "execute_result"
    }
   ],
   "source": [
    "t2= np.array((m1,m2,m3))\n",
    "t2"
   ]
  },
  {
   "cell_type": "code",
   "execution_count": 10,
   "id": "4d174b2b-c14e-4f4e-a6fe-f2968bc25d89",
   "metadata": {},
   "outputs": [
    {
     "name": "stdout",
     "output_type": "stream",
     "text": [
      "(3, 2, 2)\n"
     ]
    }
   ],
   "source": [
    "print(t.shape)"
   ]
  },
  {
   "cell_type": "markdown",
   "id": "c1fb1809-d0db-4d69-b871-cd08beb8c57c",
   "metadata": {},
   "source": [
    "Adding and Substracting Vectors and Matrices"
   ]
  },
  {
   "cell_type": "markdown",
   "id": "4a302e36-9e55-4596-b882-972909aa123c",
   "metadata": {},
   "source": [
    "You would first declare the matrix or vector then simply add/subtract the assigned variables from each other"
   ]
  },
  {
   "cell_type": "code",
   "execution_count": 12,
   "id": "f8850f44-0e3f-42d6-9ec2-5f47a346f414",
   "metadata": {},
   "outputs": [
    {
     "data": {
      "text/plain": [
       "array([[ 1, -5],\n",
       "       [-1,  3]])"
      ]
     },
     "execution_count": 12,
     "metadata": {},
     "output_type": "execute_result"
    }
   ],
   "source": [
    "m1-m2 #they neeed to be the same dimensions in order for the arithmetic operations to work"
   ]
  },
  {
   "cell_type": "code",
   "execution_count": 13,
   "id": "622f7345-cbfd-4aad-af5e-d88226971b93",
   "metadata": {},
   "outputs": [],
   "source": [
    "#Provided with these vectors,perform aritmetic operations on the eligible vectors\n",
    "\n",
    "v1 = np.array([3, 7, 9, 4])\n",
    "v2 = np.array([-1, 5, 2, 0, -5])\n",
    "v3 = np.array([-2, -7, 9, 13])\n"
   ]
  },
  {
   "cell_type": "code",
   "execution_count": 14,
   "id": "e51adfb3-0693-46a1-9dbe-2e996c7e3228",
   "metadata": {},
   "outputs": [
    {
     "name": "stdout",
     "output_type": "stream",
     "text": [
      "[ 1  0 18 17]\n"
     ]
    }
   ],
   "source": [
    "v_sum = v1+v3\n",
    "\n",
    "print(v_sum)"
   ]
  },
  {
   "cell_type": "markdown",
   "id": "8922ce65-b594-4bef-84dc-da74f8a774a5",
   "metadata": {},
   "source": [
    "Matrices can have arithmetic operations performed on them if they are the same dimensions\n",
    "Vectorsa can have arithmetic operations performed on them if they are the same length/have the same elements"
   ]
  },
  {
   "cell_type": "code",
   "execution_count": null,
   "id": "76aba0b0-fa15-4675-a4e7-36145474c01d",
   "metadata": {},
   "outputs": [],
   "source": []
  },
  {
   "cell_type": "code",
   "execution_count": null,
   "id": "3e57ef48-afc5-4efa-be85-6ebee1f23a4e",
   "metadata": {},
   "outputs": [],
   "source": []
  }
 ],
 "metadata": {
  "kernelspec": {
   "display_name": "Python 3 (ipykernel)",
   "language": "python",
   "name": "python3"
  },
  "language_info": {
   "codemirror_mode": {
    "name": "ipython",
    "version": 3
   },
   "file_extension": ".py",
   "mimetype": "text/x-python",
   "name": "python",
   "nbconvert_exporter": "python",
   "pygments_lexer": "ipython3",
   "version": "3.12.7"
  }
 },
 "nbformat": 4,
 "nbformat_minor": 5
}
